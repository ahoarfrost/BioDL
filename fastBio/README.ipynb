{
 "cells": [
  {
   "cell_type": "code",
   "execution_count": null,
   "metadata": {},
   "outputs": [],
   "source": []
  },
  {
   "cell_type": "code",
   "execution_count": 4,
   "metadata": {},
   "outputs": [
    {
     "name": "stdout",
     "output_type": "stream",
     "text": [
      "/Users/adrienne/Projects/fastBio\n"
     ]
    }
   ],
   "source": [
    "cd .."
   ]
  },
  {
   "cell_type": "code",
   "execution_count": 5,
   "metadata": {},
   "outputs": [],
   "source": [
    "import fastBio"
   ]
  },
  {
   "cell_type": "markdown",
   "metadata": {},
   "source": [
    "# Steps to training a model"
   ]
  },
  {
   "cell_type": "markdown",
   "metadata": {},
   "source": [
    "In fast.ai, there are three basic steps to training a deep learning model: \n",
    "\n",
    "1) Define your **transforms** (for sequences/text, this means defining the **tokenizer** and **vocabulary** you will use for tokenization and numericalization)\n",
    "\n",
    "2) Create a **Databunch** (which wraps up a Pytorch Dataset and Dataloader into one)\n",
    "\n",
    "3) Create a **Learner** with your specified **model config**\n",
    "\n",
    "and train!\n",
    "\n",
    "If fastai v1 is new to you, I recommend taking a look at their very extensive [documentation](https://fastai1.fast.ai/), [forum](https://forums.fast.ai/), and [online course](https://course19.fast.ai/). Note fastBio uses fastai v1, which isn't compatible with the new fastai v2.\n",
    "\n",
    "Biological sequence data asks for some special treatment as compared to text (kmer-based tokenization; handling sequence file types like fasta/fastq), so while we can use much of the built-in fast.ai *text* functionality, fastBio provides some helper functions and classes to deal with some of the quirks of biological data."
   ]
  },
  {
   "cell_type": "markdown",
   "metadata": {},
   "source": [
    "# create tokenizer and vocabulary for transforming seq data"
   ]
  },
  {
   "cell_type": "code",
   "execution_count": 36,
   "metadata": {},
   "outputs": [
    {
     "data": {
      "text/plain": [
       "BioTokenizer with the following special tokens:\n",
       " - xxunk\n",
       " - xxpad\n",
       " - xxbos\n",
       " - xxeos"
      ]
     },
     "execution_count": 36,
     "metadata": {},
     "output_type": "execute_result"
    }
   ],
   "source": [
    "#define a tokenizer with the correct kmer size and stride for your data\n",
    "\n",
    "from fastBio.transform import BioTokenizer, BioVocab\n",
    "tok = BioTokenizer(ksize=1, stride=1)\n",
    "tok"
   ]
  },
  {
   "cell_type": "markdown",
   "metadata": {},
   "source": [
    "The kmer size is how many nucleotides constitute a 'word' in the sequence, and the stride is the number of nucleotides to skip between tokens. \n",
    "\n",
    "So for a sequence: `ACGGCGCTC`\n",
    "\n",
    "a kmer size of 3 and stride of 1 would result in the tokenized sequence: `['ACG','CGG','GGC','GCG','CGC','GCT','CTC']`\n",
    "\n",
    "whereas a kmer size of 3 and stride of 3 would result in: `['ACG','GCG','CTC']`"
   ]
  },
  {
   "cell_type": "markdown",
   "metadata": {},
   "source": [
    "## create vocab from scratch"
   ]
  },
  {
   "cell_type": "code",
   "execution_count": 34,
   "metadata": {},
   "outputs": [
    {
     "name": "stdout",
     "output_type": "stream",
     "text": [
      "['xxunk', 'xxpad', 'xxbos', 'xxeos', 'T', 'C', 'A', 'G']\n"
     ]
    },
    {
     "data": {
      "text/plain": [
       "defaultdict(int,\n",
       "            {'xxunk': 0,\n",
       "             'xxpad': 1,\n",
       "             'xxbos': 2,\n",
       "             'xxeos': 3,\n",
       "             'T': 4,\n",
       "             'C': 5,\n",
       "             'A': 6,\n",
       "             'G': 7})"
      ]
     },
     "execution_count": 34,
     "metadata": {},
     "output_type": "execute_result"
    }
   ],
   "source": [
    "model_voc = BioVocab.create_from_ksize(ksize=1)\n",
    "print(model_voc.itos)\n",
    "model_voc.stoi"
   ]
  },
  {
   "cell_type": "markdown",
   "metadata": {},
   "source": [
    "Above I created a vocabulary using a kmer size of 1 (so just the nucleotides A, C, T, G), but you can use larger kmer sizes as well:"
   ]
  },
  {
   "cell_type": "code",
   "execution_count": 39,
   "metadata": {},
   "outputs": [
    {
     "name": "stdout",
     "output_type": "stream",
     "text": [
      "['xxunk', 'xxpad', 'xxbos', 'xxeos', 'TA', 'TT', 'AG', 'CG', 'TC', 'CT', 'CA', 'AT', 'CC', 'GG', 'GA', 'AA', 'GT', 'AC', 'GC', 'TG']\n"
     ]
    },
    {
     "data": {
      "text/plain": [
       "defaultdict(int,\n",
       "            {'xxunk': 0,\n",
       "             'xxpad': 1,\n",
       "             'xxbos': 2,\n",
       "             'xxeos': 3,\n",
       "             'TA': 4,\n",
       "             'TT': 5,\n",
       "             'AG': 6,\n",
       "             'CG': 7,\n",
       "             'TC': 8,\n",
       "             'CT': 9,\n",
       "             'CA': 10,\n",
       "             'AT': 11,\n",
       "             'CC': 12,\n",
       "             'GG': 13,\n",
       "             'GA': 14,\n",
       "             'AA': 15,\n",
       "             'GT': 16,\n",
       "             'AC': 17,\n",
       "             'GC': 18,\n",
       "             'TG': 19})"
      ]
     },
     "execution_count": 39,
     "metadata": {},
     "output_type": "execute_result"
    }
   ],
   "source": [
    "model_voc = BioVocab.create_from_ksize(ksize=2)\n",
    "print(model_voc.itos)\n",
    "model_voc.stoi"
   ]
  },
  {
   "cell_type": "markdown",
   "metadata": {},
   "source": [
    "## Or download the predefined LookingGlass vocabulary\n",
    "\n",
    "For training the LookingGlass model, I used a ksize=1, stride=1. If you're using a pretrained LookingGlass-based model, you want to make sure that your vocabulary is in the same order so that numericalization is the same for your data as for the LookingGlass weights. \n",
    "\n",
    "Or, it's easy to simply download the LookingGlass vocabulary for this purpose:"
   ]
  },
  {
   "cell_type": "code",
   "execution_count": 15,
   "metadata": {},
   "outputs": [
    {
     "data": {
      "text/plain": [
       "('ngs_vocab_k1_withspecial.npy', <http.client.HTTPMessage at 0x7f99355f4b70>)"
      ]
     },
     "execution_count": 15,
     "metadata": {},
     "output_type": "execute_result"
    }
   ],
   "source": [
    "#or download from pretrained vocab used in LookingGlass\n",
    "\n",
    "#you might need this if you are me...\n",
    "import ssl\n",
    "ssl._create_default_https_context = ssl._create_unverified_context\n",
    "\n",
    "import urllib.request\n",
    "urllib.request.urlretrieve (\"https://github.com/ahoarfrost/LookingGlass/releases/download/v1.0/ngs_vocab_k1_withspecial.npy\", \"ngs_vocab_k1_withspecial.npy\")\n"
   ]
  },
  {
   "cell_type": "code",
   "execution_count": 17,
   "metadata": {},
   "outputs": [],
   "source": [
    "voc = np.load('ngs_vocab_k1_withspecial.npy')\n",
    "model_voc = BioVocab(voc)"
   ]
  },
  {
   "cell_type": "code",
   "execution_count": 21,
   "metadata": {},
   "outputs": [
    {
     "name": "stdout",
     "output_type": "stream",
     "text": [
      "['xxunk' 'xxpad' 'xxbos' 'xxeos' 'G' 'A' 'C' 'T']\n"
     ]
    },
    {
     "data": {
      "text/plain": [
       "defaultdict(int,\n",
       "            {'xxunk': 0,\n",
       "             'xxpad': 1,\n",
       "             'xxbos': 2,\n",
       "             'xxeos': 3,\n",
       "             'G': 4,\n",
       "             'A': 5,\n",
       "             'C': 6,\n",
       "             'T': 7})"
      ]
     },
     "execution_count": 21,
     "metadata": {},
     "output_type": "execute_result"
    }
   ],
   "source": [
    "print(model_voc.itos)\n",
    "model_voc.stoi"
   ]
  },
  {
   "cell_type": "markdown",
   "metadata": {},
   "source": [
    "Notice that the order of the nucleotides in the vocabulary is different than the one that we generated from scratch; if you're using the pretrained LookingGlass-based models, make sure you're using the LookingGlass vocab described here as well."
   ]
  },
  {
   "cell_type": "markdown",
   "metadata": {},
   "source": [
    "# create a databunch \n",
    "\n",
    "You can create a databunch using the **BioLMDataBunch** (for language modeling) or **BioClasDataBunch** (for classification). You can do this from raw sequence data fasta/fastq files or csv files:\n",
    "\n",
    "* from_folder\n",
    "* from_seqfile\n",
    "* from_df\n",
    "* from_multiple_csv\n",
    "\n",
    "You will probably want to create a **BioLMDataBunch** from_folder (which will include all sequences from a folder containing multiple fasta/fastq files), or from_seqfile (all sequences from a single fasta or fastq file). \n",
    "\n",
    "For a **BioClasDataBunch**, I find it easiest in practice to convert sequence files like fasta/fastq to csv files with the label in a column and the sequence in another column, and use from_df or from_multiple_csv, rather than use from_seqfile or from_folder. Alternatively, you *can* use the **BioTextList** class to go straight from sequence files. \n",
    "\n",
    "You can create a custom databunch, a la the fast.ai data block API, using the **BioTextList** class, which provides a few extra specialized labeling functions etc. If you *must* use sequence files for classification, for example, you can provide a fairly complicated regex-based function to use fastai's label_from_func, or create a BioTextList.from_folder and use label_from_fname or label_from_header in the BioTextList class to extract labels from a filename or fasta header, for instance."
   ]
  },
  {
   "cell_type": "markdown",
   "metadata": {},
   "source": [
    "## BioLMDataBunch example\n",
    "\n",
    "Here we'll download some toy metagenomes (a small subset of sequences from 6 marine metagenomes from the [TARA project](https://www.ebi.ac.uk/ena/browser/view/PRJEB402)), split them into 'train' and 'valid' folders, and create a BioLMDataBunch:"
   ]
  },
  {
   "cell_type": "code",
   "execution_count": null,
   "metadata": {},
   "outputs": [],
   "source": [
    "#these are 1000 random sequences from 6 marine metagenomes from the TARA project:\n",
    "urllib.request.urlretrieve (url, \"/data/train/\")\n",
    "\n",
    "\n",
    "data_path = Path('/data/')\n",
    "train_path = Path('/data/train/')\n",
    "valid_path = Path('/data/valid/')\n",
    "data_outfile = '/data/metagenome_LMbunch.pkl'\n",
    "\n",
    "#define your batch size, ksize, and bptt\n",
    "bs=512 \n",
    "bptt=100\n",
    "ksize=1\n",
    "\n",
    "max_seqs=None #None or int to optionally limit the number of sequences read from each file in training\n",
    "val_max_seqs=None #same for valid set\n",
    "skiprows = 0 #0 or int to optionally skip X sequences in the beginning of the file before reading into the databunch\n",
    "val_skiprows = 0 #same for valid set\n",
    "#these will default to the parameters chosen here, we don't technically need to pass them\n",
    "\n",
    "#using tok and model_voc defined above\n",
    "\n",
    "#create new training chunk \n",
    "print('creating databunch')\n",
    "data = BioLMDataBunch.from_folder(path=data_path, \n",
    "                                        train=train_path, valid=valid_path, ksize=ksize,\n",
    "                                        tokenizer=tok, vocab=model_voc,\n",
    "                                        max_seqs_per_file=max_seqs, val_maxseqs=val_max_seqs,\n",
    "                                        skiprows=skiprows, val_skiprows=val_skiprows,\n",
    "                                        bs=bs, bptt=bptt\n",
    "                                            )\n",
    "print('there are',len(data.items),'items in itemlist, and',len(data.valid_ds.items),'items in data.valid_ds')\n",
    "print('databunch preview:')\n",
    "print(data)\n",
    "#you can save your databunch to file like so:\n",
    "data.save(data_outfile)"
   ]
  },
  {
   "cell_type": "code",
   "execution_count": null,
   "metadata": {},
   "outputs": [],
   "source": []
  },
  {
   "cell_type": "markdown",
   "metadata": {},
   "source": [
    "## BioClasDataBunch example"
   ]
  },
  {
   "cell_type": "code",
   "execution_count": 22,
   "metadata": {},
   "outputs": [],
   "source": []
  },
  {
   "cell_type": "code",
   "execution_count": 23,
   "metadata": {},
   "outputs": [],
   "source": []
  },
  {
   "cell_type": "code",
   "execution_count": null,
   "metadata": {},
   "outputs": [],
   "source": []
  },
  {
   "cell_type": "code",
   "execution_count": null,
   "metadata": {},
   "outputs": [],
   "source": []
  },
  {
   "cell_type": "markdown",
   "metadata": {},
   "source": [
    "# create a learner and train"
   ]
  },
  {
   "cell_type": "code",
   "execution_count": null,
   "metadata": {},
   "outputs": [],
   "source": [
    "#pretrained "
   ]
  },
  {
   "cell_type": "code",
   "execution_count": null,
   "metadata": {},
   "outputs": [],
   "source": []
  },
  {
   "cell_type": "code",
   "execution_count": null,
   "metadata": {},
   "outputs": [],
   "source": []
  },
  {
   "cell_type": "markdown",
   "metadata": {},
   "source": [
    "## using a pretrained model "
   ]
  },
  {
   "cell_type": "code",
   "execution_count": null,
   "metadata": {},
   "outputs": [],
   "source": [
    "#create LookingGlass() model from databunch defined above"
   ]
  },
  {
   "cell_type": "code",
   "execution_count": null,
   "metadata": {},
   "outputs": [],
   "source": [
    "#create LookingGlassClassifier() model from classifier databunch defined above"
   ]
  },
  {
   "cell_type": "code",
   "execution_count": null,
   "metadata": {},
   "outputs": [],
   "source": [
    "#pretrained model options:\n",
    "#    'LookingGlass'\n",
    "#    'LookingGlass_enc'\n",
    "#    'FunctionalClassifier_enc'\n",
    "#    'FunctionalClassifier'\n",
    "#    'OptimalTempClassifier'\n",
    "#    'OxidoreductaseClassifier'\n",
    "#    'ReadingFrameClassifier'"
   ]
  },
  {
   "cell_type": "markdown",
   "metadata": {},
   "source": [
    "## from scratch"
   ]
  },
  {
   "cell_type": "code",
   "execution_count": 28,
   "metadata": {},
   "outputs": [],
   "source": [
    "#you can now create any model config you want, plug it into a fastai learner along with your databunch, and train\n",
    "#lm\n",
    "#classifier"
   ]
  },
  {
   "cell_type": "code",
   "execution_count": 30,
   "metadata": {},
   "outputs": [],
   "source": []
  },
  {
   "cell_type": "code",
   "execution_count": null,
   "metadata": {},
   "outputs": [],
   "source": []
  },
  {
   "cell_type": "markdown",
   "metadata": {},
   "source": [
    "## I don't want to deal with all the databunch/training stuff. What if I really just want to make some predictions on some data with a pretrained model? \n",
    "\n",
    "You can do that! LookingGlass and associated transfer learning tasks"
   ]
  },
  {
   "cell_type": "code",
   "execution_count": null,
   "metadata": {},
   "outputs": [],
   "source": [
    "#use the export pretrained models with load_learner (like in InterpretLG)"
   ]
  }
 ],
 "metadata": {
  "kernelspec": {
   "display_name": "Python 3",
   "language": "python",
   "name": "python3"
  },
  "language_info": {
   "codemirror_mode": {
    "name": "ipython",
    "version": 3
   },
   "file_extension": ".py",
   "mimetype": "text/x-python",
   "name": "python",
   "nbconvert_exporter": "python",
   "pygments_lexer": "ipython3",
   "version": "3.7.3"
  },
  "toc": {
   "base_numbering": 1,
   "nav_menu": {},
   "number_sections": true,
   "sideBar": true,
   "skip_h1_title": false,
   "title_cell": "Table of Contents",
   "title_sidebar": "Contents",
   "toc_cell": false,
   "toc_position": {},
   "toc_section_display": true,
   "toc_window_display": false
  }
 },
 "nbformat": 4,
 "nbformat_minor": 2
}
